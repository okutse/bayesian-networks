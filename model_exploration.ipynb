{
  "nbformat": 4,
  "nbformat_minor": 0,
  "metadata": {
    "colab": {
      "name": "model_exploration.ipynb",
      "provenance": [],
      "collapsed_sections": [],
      "authorship_tag": "ABX9TyOoHFZE82LgI5V15yaMCH4v",
      "include_colab_link": true
    },
    "kernelspec": {
      "name": "ir",
      "display_name": "R"
    },
    "language_info": {
      "name": "R"
    }
  },
  "cells": [
    {
      "cell_type": "markdown",
      "metadata": {
        "id": "view-in-github",
        "colab_type": "text"
      },
      "source": [
        "<a href=\"https://colab.research.google.com/github/nlee100/bayesian-neuralnetworks/blob/main/model_exploration.ipynb\" target=\"_parent\"><img src=\"https://colab.research.google.com/assets/colab-badge.svg\" alt=\"Open In Colab\"/></a>"
      ]
    },
    {
      "cell_type": "markdown",
      "source": [
        "---\n",
        "\n",
        "<table>\n",
        "  <tr>\n",
        "    <th>Title</th>\n",
        "    <th>Model Exploration for PHP 2650 Final Project</th>\n",
        "  </tr>\n",
        "  <tr>\n",
        "    <td>Creator</td>\n",
        "    <td>Naomi Lee</td>\n",
        "  </tr>\n",
        "    <tr>\n",
        "    <td>Content</td>\n",
        "    <td>DNNSurv, BDNNSurv</td>\n",
        "  </tr>\n",
        "    <tr>\n",
        "    <td>Github</td>\n",
        "    <td><a href=\"https://github.com/nlee100/bayesian-neuralnetworks\">bayesian-neuralnetworks</td>\n",
        "  </tr>\n",
        "  <tr>\n",
        "    <td>Last Updated</td>\n",
        "    <td>April 23, 2022</td>\n",
        "  </tr>\n",
        "</table>\n",
        "\n",
        "---"
      ],
      "metadata": {
        "id": "ymceuNddxYN0"
      }
    },
    {
      "cell_type": "markdown",
      "source": [
        "<h2>DNNSurv</h2>\n",
        "\n",
        "Deep neural network for survival analysis using pseudo values. Keras models in R. Attribution of work to L. Zhao and D. Feng."
      ],
      "metadata": {
        "id": "WMqaBtDMQIn-"
      }
    },
    {
      "cell_type": "code",
      "execution_count": 2,
      "metadata": {
        "id": "xjj3iqxYNp8X"
      },
      "outputs": [],
      "source": [
        "# Neural network with two hidden layers.\n",
        "pseudoDNN.train <- function(x_train, y_train){\n",
        "  \n",
        "  model <- keras_model_sequential() %>%\n",
        "    layer_dense(units = 8, kernel_regularizer = regularizer_l2(0.0001), activation = \"tanh\",\n",
        "                input_shape = dim(x_train)[[2]]) %>%\n",
        "    layer_dense(units = 4, kernel_regularizer = regularizer_l2(0.01),\n",
        "                activation = \"tanh\") %>%\n",
        "    layer_dense(units = 1, activation='sigmoid')\n",
        "  \n",
        "  model %>% compile(\n",
        "    optimizer = optimizer_adam(lr = 0.0025),\n",
        "    loss = \"mse\",\n",
        "    metrics = c(\"mae\")\n",
        "  )\n",
        "  model %>% fit(x_train, y_train,\n",
        "                epochs = 30, batch_size = 64,\n",
        "                verbose = 0)\n",
        "  \n",
        "  model\n",
        "}"
      ]
    },
    {
      "cell_type": "code",
      "source": [
        "# Neural network with one hidden layer.\n",
        "pseudoDNN.train <- function(x_train, y_train){\n",
        "  # Use selu instead of relu for some studies...#TODO: Explore.\n",
        "  model <- keras_model_sequential() %>%\n",
        "    layer_dense(units=16,  activation = \"selu\",bias_initializer = initializer_constant(0.0),\n",
        "                input_shape = dim(x_train)[[2]]) %>%\n",
        "    layer_dropout(rate = 0.2) %>%\n",
        "    layer_dense(units = 1, activation='sigmoid')\n",
        "  \n",
        "  model %>% compile(\n",
        "    optimizer = optimizer_rmsprop(lr = 0.001),\n",
        "    loss = \"mse\",\n",
        "    metrics = c(\"mae\")\n",
        "  )\n",
        "  model %>% fit(x_train, y_train,\n",
        "                epochs = 1000, batch_size =256,\n",
        "                verbose = 0)\n",
        "  model\n",
        "}"
      ],
      "metadata": {
        "id": "B9PsrZUyNsKQ"
      },
      "execution_count": 21,
      "outputs": []
    },
    {
      "cell_type": "code",
      "source": [
        "# Prediction.\n",
        "pseudoDNN.predict <- function(model, x_test){\n",
        "  ypred <- model %>% predict(x_test)\n",
        "  ypred\n",
        "}"
      ],
      "metadata": {
        "id": "_Ad1SDbDOPCH"
      },
      "execution_count": 22,
      "outputs": []
    },
    {
      "cell_type": "code",
      "source": [
        "# Get pseudo conditional survival probabilities, where\n",
        "# t = the survival time, d = the censoring indicator, and\n",
        "# qt = a vector of time points that are used to divide the time interval.\n",
        "getPseudoConditional <- function(t, d, qt){\n",
        "  #browser()\n",
        "  s <- c(0, qt)  \n",
        "  n=length(t)\n",
        "  ns=length(s)-1  # the number of intervals\n",
        "  D <- do.call(cbind, lapply(1:ns, function(j)  (s[j] < t) * (t <= s[j+1]) * (d == 1)))\n",
        "  R <- do.call(cbind, lapply(1:ns, function(j) ifelse(s[j] < t, 1, 0)))\n",
        "  Delta<-do.call(cbind, lapply(1:ns, function(j) pmin(t,s[j+1])-s[j]))\n",
        "  \n",
        "  # Format into long formate.\n",
        "  dd.tmp=cbind.data.frame(id=rep(1:n,ns),s=rep(c(0,qt[-length(qt)]), each=n), y=c(R*Delta),d=c(D))\n",
        "  \n",
        "  dd=dd.tmp[dd.tmp$y>0,]\n",
        "  pseudost=rep(NA, nrow(dd))\n",
        "  for (j in 1:ns){\n",
        "    index= (dd$s==s[j])\n",
        "    dds=dd[index,]\n",
        "    pseudost[index]=pseudosurv(time=dds$y, event=dds$d, tmax=s[j+1]-s[j])$pseudo\n",
        "    print(j)\n",
        "  }\n",
        "  dd$pseudost=pseudost  \n",
        "  \n",
        "  return(dd[,c(1,2,5)])\n",
        "}"
      ],
      "metadata": {
        "id": "kh-DOjn-OURg"
      },
      "execution_count": 23,
      "outputs": []
    },
    {
      "cell_type": "code",
      "source": [
        "rm(list=ls())\n",
        "# install.packages(c(\"keras\",\"pseudo\",\"survivalROC\", \"survival\", \"survAUC\"))\n",
        "\n",
        "# if (!require(\"BiocManager\", quietly = TRUE))\n",
        "#     install.packages(\"BiocManager\")\n",
        "\n",
        "# BiocManager::install(\"survcomp\")\n",
        "\n",
        "library(keras)\n",
        "library(pseudo)\n",
        "library(survivalROC)\n",
        "library(survival)\n",
        "library(survcomp)\n",
        "library(survAUC)"
      ],
      "metadata": {
        "colab": {
          "base_uri": "https://localhost:8080/"
        },
        "id": "-3_MpN3acovn",
        "outputId": "4716f951-8987-4f8d-f047-46513fd70181"
      },
      "execution_count": 18,
      "outputs": [
        {
          "output_type": "stream",
          "name": "stderr",
          "text": [
            "Loading required package: prodlim\n",
            "\n"
          ]
        }
      ]
    },
    {
      "cell_type": "code",
      "source": [
        "# Simulate survival data from a cox model with one covariate. \n",
        "set.seed(2412)\n",
        "pickTime=c(0.7,1.7,3.2,5.3,8.3)\n",
        "n=2000\n",
        "x=rnorm(n,0,1)\n",
        "c0=0.1\n",
        "times=rexp(n,c0*exp(1*x))  \n",
        "time.censor=rexp(n,c0*exp(1*x)) \n",
        "summary(time.censor)\n",
        "delta=ifelse(times<time.censor, 1, 0)\n",
        "time <- ifelse(times<time.censor, times, time.censor)\n",
        "\n",
        "x_train  <- x[1:(n/2)]\n",
        "surv_train <- time[1:(n/2)]\n",
        "cen_train <- delta[1:(n/2)]\n",
        "\n",
        "# Data normalization.\n",
        "mean <- apply(as.matrix(x_train), 2, mean)\n",
        "std <- apply(as.matrix(x_train), 2, sd)\n",
        "x_train <- scale(x_train, center = mean, scale = std)\n",
        "\n",
        "# Data normalization.\n",
        "x_test=x[(n/2+1):n]\n",
        "surv_test <- time[(n/2+1):n]\n",
        "cen_test =delta[(n/2+1):n]\n",
        "x_test<- scale(x_test, center = mean, scale = std)\n",
        "\n",
        "# Get the pseudo conditinal survival probability. \n",
        "pseudoCond  = getPseudoConditional(surv_train, cen_train, pickTime)\n",
        "\n",
        "# Covariate.\n",
        "x <- x_train[pseudoCond$id,]\n",
        "\n",
        "# Create dummy variables for the time points.\n",
        "smatrix=model.matrix(~as.factor(pseudoCond$s)+0)\n",
        "\n",
        "# Create input predictors. \n",
        "x_train.all <- cbind(x, smatrix)\n",
        "\n",
        "y_train.all <- pseudoCond$pseudost\n",
        "\n",
        "model = pseudoDNN.train(x_train.all, y_train.all)\n",
        "\n",
        "\n",
        "# Format the test data.\n",
        "x_test.all=do.call(rbind, replicate(length(pickTime), x_test, simplify=FALSE))\n",
        "s_test=rep(pickTime,each=nrow(x_test))\n",
        "smatrix.test=model.matrix(~as.factor(s_test)+0)\n",
        "x_test.all=cbind(x_test.all,smatrix.test)\n",
        "\n",
        "# Predict test data.\n",
        "ypred.con <- pseudoDNN.predict(model, x_test.all)\n",
        "\n",
        "# Obtain the marginal survival probability by multiple series of conditional probabilities.\n",
        "ypred.con <- matrix(ypred.con, nrow=nrow(x_test))\n",
        "ypred <- lapply(1:length(c(0, qt)), function(i) apply(ypred.con[,1:i, drop=FALSE], 1, prod))\n",
        "surv_prob <- Reduce(cbind, ypred)\n",
        "\n",
        "# c-index at time 0.7.\n",
        "concordance.index(x=1-surv_prob[,2], surv.time=surv_test, surv.event=cen_test, method=\"noether\")$c.index"
      ],
      "metadata": {
        "colab": {
          "base_uri": "https://localhost:8080/",
          "height": 195
        },
        "id": "BodhOrfSZTKn",
        "outputId": "100cb283-c82d-4e02-f7fb-f2bcac033108"
      },
      "execution_count": 24,
      "outputs": [
        {
          "output_type": "display_data",
          "data": {
            "text/plain": [
              "    Min.  1st Qu.   Median     Mean  3rd Qu.     Max. \n",
              "  0.0019   2.3034   6.5175  16.9276  17.3017 529.2871 "
            ]
          },
          "metadata": {}
        },
        {
          "output_type": "stream",
          "name": "stdout",
          "text": [
            "[1] 1\n",
            "[1] 2\n",
            "[1] 3\n",
            "[1] 4\n",
            "[1] 5\n"
          ]
        },
        {
          "output_type": "stream",
          "name": "stderr",
          "text": [
            "Warning message in backcompat_fix_rename_lr_to_learning_rate(...):\n",
            "“the `lr` argument has been renamed to `learning_rate`.”\n"
          ]
        },
        {
          "output_type": "display_data",
          "data": {
            "text/html": [
              "0.74209196406289"
            ],
            "text/markdown": "0.74209196406289",
            "text/latex": "0.74209196406289",
            "text/plain": [
              "[1] 0.742092"
            ]
          },
          "metadata": {}
        }
      ]
    },
    {
      "cell_type": "markdown",
      "source": [
        "<h2>BDNNSurv</h2>\n",
        "\n",
        "Bayesian heirchical deep neural network for survival analysis using pseudo values. Data simulation in R. Attribution of work to D. Feng and L. Zhao ."
      ],
      "metadata": {
        "id": "lOqL72WFjgZg"
      }
    },
    {
      "cell_type": "code",
      "source": [
        "### Obtain true values by simulation.\n",
        "a=1.1; b=0.8\n",
        "beta2=0.1\n",
        "\n",
        "n <- 10000000\n",
        "set.seed(100)\n",
        "u <- runif(n, 0, 1)\n",
        "z <- rbinom(n, 1, 0.5)\n",
        "nvars <- 10\n",
        "XX <- matrix(rnorm(nvars*n), nrow=n, ncol=nvars)\n",
        "rho <- 0.5    \n",
        "V <- matrix(c(1, rho, rho^2,\n",
        "              rho, 1, rho^2,\n",
        "              rho^2, rho, 1), 3, 3)\n",
        "qf <- rep(0, n)\n",
        "for(i in 1:n){\n",
        "    qf[i] <- t(XX[i,1:3]) %*% V %*% XX[i,1:3]\n",
        "}    \n",
        "\n",
        "\n",
        "y1 <- as.vector(b*(exp(-log(u)*exp(-qf*beta2))-1)^(1/a)) \n",
        "print(quantile(y1, seq(0.1, 0.9, by=0.1)))\n",
        "#       10%        20%        30%        40%        50%        60%        70%        80%        90% \n",
        "#0.07864246 0.16315466 0.26375659 0.38902902 0.55357536 0.78438583 1.13899336 1.78226636 3.44708184 \n",
        "\n",
        "### Simulate data.\n",
        "\n",
        "rm(list=ls())\n",
        "\n",
        "install.packages(c(\"survival\", \"pseudo\"))\n",
        "\n",
        "library(survival)\n",
        "library(pseudo)\n",
        "\n",
        "#obtain pseudo-values for a data set\n",
        "getPseudo <- function(time, event, tmax){\n",
        "    \n",
        "    pseudodt <- 1 - pseudosurv(time=time, event=event,\n",
        "                               tmax=tmax)$pseudo\n",
        "    \n",
        "    pseudodt\n",
        "}\n",
        "\n",
        "#TODO: Save data locally and split into test/train for network."
      ],
      "metadata": {
        "colab": {
          "base_uri": "https://localhost:8080/"
        },
        "id": "h_5W-QHv4L8P",
        "outputId": "5ed854ab-4d48-4156-abb9-a4f4481dc817"
      },
      "execution_count": 5,
      "outputs": [
        {
          "output_type": "stream",
          "name": "stdout",
          "text": [
            "       10%        20%        30%        40%        50%        60%        70% \n",
            "0.07852361 0.16285140 0.26326659 0.38861972 0.55317008 0.78385029 1.13883537 \n",
            "       80%        90% \n",
            "1.78046938 3.44271251 \n"
          ]
        },
        {
          "output_type": "stream",
          "name": "stderr",
          "text": [
            "Installing packages into ‘/usr/local/lib/R/site-library’\n",
            "(as ‘lib’ is unspecified)\n",
            "\n",
            "also installing the dependencies ‘KMsurv’, ‘geepack’\n",
            "\n",
            "\n",
            "Loading required package: KMsurv\n",
            "\n",
            "Loading required package: geepack\n",
            "\n"
          ]
        }
      ]
    },
    {
      "cell_type": "markdown",
      "source": [
        "# Relevant Work\n",
        "\n",
        "<ul type='disc'>\n",
        "  <li>RNN-SURV</li>\n",
        "  <li>DeepSurv</li>\n",
        "</ul> "
      ],
      "metadata": {
        "id": "fyVhC6Qov88C"
      }
    }
  ]
}